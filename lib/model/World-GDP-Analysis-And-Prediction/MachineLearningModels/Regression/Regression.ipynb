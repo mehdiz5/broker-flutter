{
 "cells": [
  {
   "cell_type": "markdown",
   "metadata": {},
   "source": [
    "# Machine Learning model - Regression \n",
    "For year 2014-2015 World GDP Prediction\n"
   ]
  },
  {
   "cell_type": "code",
   "execution_count": 4,
   "metadata": {
    "collapsed": false
   },
   "outputs": [
    {
     "name": "stdout",
     "output_type": "stream",
     "text": [
      "+-----------+--------------------+------------------+\n",
      "|      label|            features|        prediction|\n",
      "+-----------+--------------------+------------------+\n",
      "|2.472892638|[68.2722,1.237576...|1.7333235964125357|\n",
      "|1.078268751|[67.8922,1.253367...|1.7216043513520276|\n",
      "+-----------+--------------------+------------------+\n",
      "\n",
      "+-----------+--------------------+-----------------+\n",
      "|      label|            features|       prediction|\n",
      "+-----------+--------------------+-----------------+\n",
      "|7.243471746|[38285.056,141.87...| 8.08099797760533|\n",
      "|7.570130368|[37762.815,141.87...|8.106384150562933|\n",
      "+-----------+--------------------+-----------------+\n",
      "\n",
      "+-----------+--------------------+------------------+\n",
      "|      label|            features|        prediction|\n",
      "+-----------+--------------------+------------------+\n",
      "|2.427795636|[5.0,44.221248625...|1.9496426632383344|\n",
      "|2.425970526|[5.0,44.618038175...|0.9735467793007544|\n",
      "+-----------+--------------------+------------------+\n",
      "\n",
      "+-----------+--------------------+-----------------+\n",
      "|      label|            features|       prediction|\n",
      "+-----------+--------------------+-----------------+\n",
      "|7.268513241|[31.0,4.392,4.699...|8.907530911328195|\n",
      "|        6.9|[31.0,2.63,4.9000...|8.002918894039993|\n",
      "+-----------+--------------------+-----------------+\n",
      "\n",
      "+-----------+--------------------+-------------------+\n",
      "|      label|            features|         prediction|\n",
      "+-----------+--------------------+-------------------+\n",
      "|0.259494108|[88.92396435,1.44...|0.32838831824294523|\n",
      "|1.155966989|[88.92396435,1.38...| 0.3660393542902103|\n",
      "+-----------+--------------------+-------------------+\n",
      "\n"
     ]
    }
   ],
   "source": [
    "from pyspark.ml import Pipeline\n",
    "from pyspark.ml.feature import Normalizer\n",
    "from pyspark.ml.linalg import Vectors\n",
    "from pyspark.ml.tuning import CrossValidator, ParamGridBuilder\n",
    "from pyspark.ml.evaluation import RegressionEvaluator\n",
    "from pyspark.ml.regression import LinearRegression\n",
    "from pyspark.ml.tuning import ParamGridBuilder, TrainValidationSplit\n",
    "\n",
    "text = sc.textFile('filled.csv')\n",
    "text = text.map(lambda text:text.split(\";\"))\n",
    "\n",
    "\n",
    "countries = ['Canada','India','United States','China','France']\n",
    "header = text.first()\n",
    "features = text.filter(lambda line:line!=header)\n",
    "\n",
    "for country in countries:\n",
    "    data = features.filter(lambda text:text[-1]==country)\n",
    "    data = data.filter(lambda text:text[-3]>1984)\n",
    "    test = data.filter(lambda text:text[-3] in ['2014','2015'])\n",
    "    train = data.filter(lambda text:text[-3] not in ['2014','2015'])\n",
    "    train = train.map(lambda text:(float(text[-2]),Vectors.dense(text[0:3]))).toDF(['label','features'])\n",
    "    test = test.map(lambda text:(float(text[-2]),Vectors.dense(text[0:3]))).toDF(['label','features'])\n",
    "    lr = LinearRegression(maxIter=3)\n",
    "    pipeline = Pipeline(stages=[lr])\n",
    "    paramGrid = (ParamGridBuilder().addGrid(lr.regParam, [1, 0.75 ,0.5, 0.1, 0.01])\n",
    "                                   .addGrid(lr.elasticNetParam, [0.0,0.5, 1.0])\n",
    "                                   .build())\n",
    "    crossval = CrossValidator(estimator=pipeline,\n",
    "                              estimatorParamMaps=paramGrid,\n",
    "                              evaluator=RegressionEvaluator(),\n",
    "                              numFolds=3)\n",
    "    cvModel = crossval.fit(train)\n",
    "    prediction = cvModel.transform(test)\n",
    "    prediction.show()"
   ]
  }
 ],
 "metadata": {
  "kernelspec": {
   "display_name": "Python 2",
   "language": "python",
   "name": "python2"
  },
  "language_info": {
   "codemirror_mode": {
    "name": "ipython",
    "version": 2
   },
   "file_extension": ".py",
   "mimetype": "text/x-python",
   "name": "python",
   "nbconvert_exporter": "python",
   "pygments_lexer": "ipython2",
   "version": "2.7.10"
  }
 },
 "nbformat": 4,
 "nbformat_minor": 2
}
